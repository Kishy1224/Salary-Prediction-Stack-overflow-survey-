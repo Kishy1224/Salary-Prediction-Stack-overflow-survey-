{
 "cells": [
  {
   "cell_type": "code",
   "execution_count": 1,
   "id": "caa5831f",
   "metadata": {},
   "outputs": [],
   "source": [
    "import pandas as pd\n",
    "import numpy as np"
   ]
  },
  {
   "cell_type": "markdown",
   "id": "8433d57d",
   "metadata": {},
   "source": [
    "http://192.168.1.17:8502/"
   ]
  },
  {
   "cell_type": "code",
   "execution_count": 2,
   "id": "aba28042",
   "metadata": {},
   "outputs": [],
   "source": [
    "df = pd.read_csv(r\"C:\\Users\\HP\\Documents\\100\\web_app\\stack-overflow-developer-survey-2021\\survey_results_public.csv\")"
   ]
  },
  {
   "cell_type": "code",
   "execution_count": 3,
   "id": "f5a8f7fc",
   "metadata": {},
   "outputs": [
    {
     "data": {
      "text/html": [
       "<div>\n",
       "<style scoped>\n",
       "    .dataframe tbody tr th:only-of-type {\n",
       "        vertical-align: middle;\n",
       "    }\n",
       "\n",
       "    .dataframe tbody tr th {\n",
       "        vertical-align: top;\n",
       "    }\n",
       "\n",
       "    .dataframe thead th {\n",
       "        text-align: right;\n",
       "    }\n",
       "</style>\n",
       "<table border=\"1\" class=\"dataframe\">\n",
       "  <thead>\n",
       "    <tr style=\"text-align: right;\">\n",
       "      <th></th>\n",
       "      <th>ResponseId</th>\n",
       "      <th>MainBranch</th>\n",
       "      <th>Employment</th>\n",
       "      <th>Country</th>\n",
       "      <th>US_State</th>\n",
       "      <th>UK_Country</th>\n",
       "      <th>EdLevel</th>\n",
       "      <th>Age1stCode</th>\n",
       "      <th>LearnCode</th>\n",
       "      <th>YearsCode</th>\n",
       "      <th>...</th>\n",
       "      <th>Age</th>\n",
       "      <th>Gender</th>\n",
       "      <th>Trans</th>\n",
       "      <th>Sexuality</th>\n",
       "      <th>Ethnicity</th>\n",
       "      <th>Accessibility</th>\n",
       "      <th>MentalHealth</th>\n",
       "      <th>SurveyLength</th>\n",
       "      <th>SurveyEase</th>\n",
       "      <th>ConvertedCompYearly</th>\n",
       "    </tr>\n",
       "  </thead>\n",
       "  <tbody>\n",
       "    <tr>\n",
       "      <th>0</th>\n",
       "      <td>1</td>\n",
       "      <td>I am a developer by profession</td>\n",
       "      <td>Independent contractor, freelancer, or self-em...</td>\n",
       "      <td>Slovakia</td>\n",
       "      <td>NaN</td>\n",
       "      <td>NaN</td>\n",
       "      <td>Secondary school (e.g. American high school, G...</td>\n",
       "      <td>18 - 24 years</td>\n",
       "      <td>Coding Bootcamp;Other online resources (ex: vi...</td>\n",
       "      <td>NaN</td>\n",
       "      <td>...</td>\n",
       "      <td>25-34 years old</td>\n",
       "      <td>Man</td>\n",
       "      <td>No</td>\n",
       "      <td>Straight / Heterosexual</td>\n",
       "      <td>White or of European descent</td>\n",
       "      <td>None of the above</td>\n",
       "      <td>None of the above</td>\n",
       "      <td>Appropriate in length</td>\n",
       "      <td>Easy</td>\n",
       "      <td>62268.0</td>\n",
       "    </tr>\n",
       "    <tr>\n",
       "      <th>1</th>\n",
       "      <td>2</td>\n",
       "      <td>I am a student who is learning to code</td>\n",
       "      <td>Student, full-time</td>\n",
       "      <td>Netherlands</td>\n",
       "      <td>NaN</td>\n",
       "      <td>NaN</td>\n",
       "      <td>Bachelor’s degree (B.A., B.S., B.Eng., etc.)</td>\n",
       "      <td>11 - 17 years</td>\n",
       "      <td>Other online resources (ex: videos, blogs, etc...</td>\n",
       "      <td>7</td>\n",
       "      <td>...</td>\n",
       "      <td>18-24 years old</td>\n",
       "      <td>Man</td>\n",
       "      <td>No</td>\n",
       "      <td>Straight / Heterosexual</td>\n",
       "      <td>White or of European descent</td>\n",
       "      <td>None of the above</td>\n",
       "      <td>None of the above</td>\n",
       "      <td>Appropriate in length</td>\n",
       "      <td>Easy</td>\n",
       "      <td>NaN</td>\n",
       "    </tr>\n",
       "    <tr>\n",
       "      <th>2</th>\n",
       "      <td>3</td>\n",
       "      <td>I am not primarily a developer, but I write co...</td>\n",
       "      <td>Student, full-time</td>\n",
       "      <td>Russian Federation</td>\n",
       "      <td>NaN</td>\n",
       "      <td>NaN</td>\n",
       "      <td>Bachelor’s degree (B.A., B.S., B.Eng., etc.)</td>\n",
       "      <td>11 - 17 years</td>\n",
       "      <td>Other online resources (ex: videos, blogs, etc...</td>\n",
       "      <td>NaN</td>\n",
       "      <td>...</td>\n",
       "      <td>18-24 years old</td>\n",
       "      <td>Man</td>\n",
       "      <td>No</td>\n",
       "      <td>Prefer not to say</td>\n",
       "      <td>Prefer not to say</td>\n",
       "      <td>None of the above</td>\n",
       "      <td>None of the above</td>\n",
       "      <td>Appropriate in length</td>\n",
       "      <td>Easy</td>\n",
       "      <td>NaN</td>\n",
       "    </tr>\n",
       "    <tr>\n",
       "      <th>3</th>\n",
       "      <td>4</td>\n",
       "      <td>I am a developer by profession</td>\n",
       "      <td>Employed full-time</td>\n",
       "      <td>Austria</td>\n",
       "      <td>NaN</td>\n",
       "      <td>NaN</td>\n",
       "      <td>Master’s degree (M.A., M.S., M.Eng., MBA, etc.)</td>\n",
       "      <td>11 - 17 years</td>\n",
       "      <td>NaN</td>\n",
       "      <td>NaN</td>\n",
       "      <td>...</td>\n",
       "      <td>35-44 years old</td>\n",
       "      <td>Man</td>\n",
       "      <td>No</td>\n",
       "      <td>Straight / Heterosexual</td>\n",
       "      <td>White or of European descent</td>\n",
       "      <td>I am deaf / hard of hearing</td>\n",
       "      <td>NaN</td>\n",
       "      <td>Appropriate in length</td>\n",
       "      <td>Neither easy nor difficult</td>\n",
       "      <td>NaN</td>\n",
       "    </tr>\n",
       "    <tr>\n",
       "      <th>4</th>\n",
       "      <td>5</td>\n",
       "      <td>I am a developer by profession</td>\n",
       "      <td>Independent contractor, freelancer, or self-em...</td>\n",
       "      <td>United Kingdom of Great Britain and Northern I...</td>\n",
       "      <td>NaN</td>\n",
       "      <td>England</td>\n",
       "      <td>Master’s degree (M.A., M.S., M.Eng., MBA, etc.)</td>\n",
       "      <td>5 - 10 years</td>\n",
       "      <td>Friend or family member</td>\n",
       "      <td>17</td>\n",
       "      <td>...</td>\n",
       "      <td>25-34 years old</td>\n",
       "      <td>Man</td>\n",
       "      <td>No</td>\n",
       "      <td>NaN</td>\n",
       "      <td>White or of European descent</td>\n",
       "      <td>None of the above</td>\n",
       "      <td>NaN</td>\n",
       "      <td>Appropriate in length</td>\n",
       "      <td>Easy</td>\n",
       "      <td>NaN</td>\n",
       "    </tr>\n",
       "  </tbody>\n",
       "</table>\n",
       "<p>5 rows × 48 columns</p>\n",
       "</div>"
      ],
      "text/plain": [
       "   ResponseId                                         MainBranch  \\\n",
       "0           1                     I am a developer by profession   \n",
       "1           2             I am a student who is learning to code   \n",
       "2           3  I am not primarily a developer, but I write co...   \n",
       "3           4                     I am a developer by profession   \n",
       "4           5                     I am a developer by profession   \n",
       "\n",
       "                                          Employment  \\\n",
       "0  Independent contractor, freelancer, or self-em...   \n",
       "1                                 Student, full-time   \n",
       "2                                 Student, full-time   \n",
       "3                                 Employed full-time   \n",
       "4  Independent contractor, freelancer, or self-em...   \n",
       "\n",
       "                                             Country US_State UK_Country  \\\n",
       "0                                           Slovakia      NaN        NaN   \n",
       "1                                        Netherlands      NaN        NaN   \n",
       "2                                 Russian Federation      NaN        NaN   \n",
       "3                                            Austria      NaN        NaN   \n",
       "4  United Kingdom of Great Britain and Northern I...      NaN    England   \n",
       "\n",
       "                                             EdLevel     Age1stCode  \\\n",
       "0  Secondary school (e.g. American high school, G...  18 - 24 years   \n",
       "1       Bachelor’s degree (B.A., B.S., B.Eng., etc.)  11 - 17 years   \n",
       "2       Bachelor’s degree (B.A., B.S., B.Eng., etc.)  11 - 17 years   \n",
       "3    Master’s degree (M.A., M.S., M.Eng., MBA, etc.)  11 - 17 years   \n",
       "4    Master’s degree (M.A., M.S., M.Eng., MBA, etc.)   5 - 10 years   \n",
       "\n",
       "                                           LearnCode YearsCode  ...  \\\n",
       "0  Coding Bootcamp;Other online resources (ex: vi...       NaN  ...   \n",
       "1  Other online resources (ex: videos, blogs, etc...         7  ...   \n",
       "2  Other online resources (ex: videos, blogs, etc...       NaN  ...   \n",
       "3                                                NaN       NaN  ...   \n",
       "4                            Friend or family member        17  ...   \n",
       "\n",
       "               Age Gender Trans                Sexuality  \\\n",
       "0  25-34 years old    Man    No  Straight / Heterosexual   \n",
       "1  18-24 years old    Man    No  Straight / Heterosexual   \n",
       "2  18-24 years old    Man    No        Prefer not to say   \n",
       "3  35-44 years old    Man    No  Straight / Heterosexual   \n",
       "4  25-34 years old    Man    No                      NaN   \n",
       "\n",
       "                      Ethnicity                Accessibility  \\\n",
       "0  White or of European descent            None of the above   \n",
       "1  White or of European descent            None of the above   \n",
       "2             Prefer not to say            None of the above   \n",
       "3  White or of European descent  I am deaf / hard of hearing   \n",
       "4  White or of European descent            None of the above   \n",
       "\n",
       "        MentalHealth           SurveyLength                  SurveyEase  \\\n",
       "0  None of the above  Appropriate in length                        Easy   \n",
       "1  None of the above  Appropriate in length                        Easy   \n",
       "2  None of the above  Appropriate in length                        Easy   \n",
       "3                NaN  Appropriate in length  Neither easy nor difficult   \n",
       "4                NaN  Appropriate in length                        Easy   \n",
       "\n",
       "  ConvertedCompYearly  \n",
       "0             62268.0  \n",
       "1                 NaN  \n",
       "2                 NaN  \n",
       "3                 NaN  \n",
       "4                 NaN  \n",
       "\n",
       "[5 rows x 48 columns]"
      ]
     },
     "execution_count": 3,
     "metadata": {},
     "output_type": "execute_result"
    }
   ],
   "source": [
    "df.head(5)"
   ]
  },
  {
   "cell_type": "code",
   "execution_count": 4,
   "id": "7bcb700b",
   "metadata": {},
   "outputs": [
    {
     "data": {
      "text/plain": [
       "array([False, False, False, False, False, False, False, False, False,\n",
       "       False, False, False, False, False, False, False, False, False,\n",
       "       False, False, False, False, False, False, False, False, False,\n",
       "       False, False, False, False, False, False, False, False, False,\n",
       "       False, False, False, False, False, False, False, False, False,\n",
       "       False, False,  True])"
      ]
     },
     "execution_count": 4,
     "metadata": {},
     "output_type": "execute_result"
    }
   ],
   "source": [
    "df.columns == 'ConvertedCompYearly'"
   ]
  },
  {
   "cell_type": "code",
   "execution_count": 5,
   "id": "11d6243f",
   "metadata": {},
   "outputs": [
    {
     "data": {
      "text/html": [
       "<div>\n",
       "<style scoped>\n",
       "    .dataframe tbody tr th:only-of-type {\n",
       "        vertical-align: middle;\n",
       "    }\n",
       "\n",
       "    .dataframe tbody tr th {\n",
       "        vertical-align: top;\n",
       "    }\n",
       "\n",
       "    .dataframe thead th {\n",
       "        text-align: right;\n",
       "    }\n",
       "</style>\n",
       "<table border=\"1\" class=\"dataframe\">\n",
       "  <thead>\n",
       "    <tr style=\"text-align: right;\">\n",
       "      <th></th>\n",
       "      <th>Country</th>\n",
       "      <th>EdLevel</th>\n",
       "      <th>YearsCodePro</th>\n",
       "      <th>Employment</th>\n",
       "      <th>Salary</th>\n",
       "    </tr>\n",
       "  </thead>\n",
       "  <tbody>\n",
       "    <tr>\n",
       "      <th>0</th>\n",
       "      <td>Slovakia</td>\n",
       "      <td>Secondary school (e.g. American high school, G...</td>\n",
       "      <td>NaN</td>\n",
       "      <td>Independent contractor, freelancer, or self-em...</td>\n",
       "      <td>62268.0</td>\n",
       "    </tr>\n",
       "    <tr>\n",
       "      <th>1</th>\n",
       "      <td>Netherlands</td>\n",
       "      <td>Bachelor’s degree (B.A., B.S., B.Eng., etc.)</td>\n",
       "      <td>NaN</td>\n",
       "      <td>Student, full-time</td>\n",
       "      <td>NaN</td>\n",
       "    </tr>\n",
       "    <tr>\n",
       "      <th>2</th>\n",
       "      <td>Russian Federation</td>\n",
       "      <td>Bachelor’s degree (B.A., B.S., B.Eng., etc.)</td>\n",
       "      <td>NaN</td>\n",
       "      <td>Student, full-time</td>\n",
       "      <td>NaN</td>\n",
       "    </tr>\n",
       "    <tr>\n",
       "      <th>3</th>\n",
       "      <td>Austria</td>\n",
       "      <td>Master’s degree (M.A., M.S., M.Eng., MBA, etc.)</td>\n",
       "      <td>NaN</td>\n",
       "      <td>Employed full-time</td>\n",
       "      <td>NaN</td>\n",
       "    </tr>\n",
       "    <tr>\n",
       "      <th>4</th>\n",
       "      <td>United Kingdom of Great Britain and Northern I...</td>\n",
       "      <td>Master’s degree (M.A., M.S., M.Eng., MBA, etc.)</td>\n",
       "      <td>10</td>\n",
       "      <td>Independent contractor, freelancer, or self-em...</td>\n",
       "      <td>NaN</td>\n",
       "    </tr>\n",
       "  </tbody>\n",
       "</table>\n",
       "</div>"
      ],
      "text/plain": [
       "                                             Country  \\\n",
       "0                                           Slovakia   \n",
       "1                                        Netherlands   \n",
       "2                                 Russian Federation   \n",
       "3                                            Austria   \n",
       "4  United Kingdom of Great Britain and Northern I...   \n",
       "\n",
       "                                             EdLevel YearsCodePro  \\\n",
       "0  Secondary school (e.g. American high school, G...          NaN   \n",
       "1       Bachelor’s degree (B.A., B.S., B.Eng., etc.)          NaN   \n",
       "2       Bachelor’s degree (B.A., B.S., B.Eng., etc.)          NaN   \n",
       "3    Master’s degree (M.A., M.S., M.Eng., MBA, etc.)          NaN   \n",
       "4    Master’s degree (M.A., M.S., M.Eng., MBA, etc.)           10   \n",
       "\n",
       "                                          Employment   Salary  \n",
       "0  Independent contractor, freelancer, or self-em...  62268.0  \n",
       "1                                 Student, full-time      NaN  \n",
       "2                                 Student, full-time      NaN  \n",
       "3                                 Employed full-time      NaN  \n",
       "4  Independent contractor, freelancer, or self-em...      NaN  "
      ]
     },
     "execution_count": 5,
     "metadata": {},
     "output_type": "execute_result"
    }
   ],
   "source": [
    "df = df[[\"Country\",\"EdLevel\",\"YearsCodePro\",\"Employment\",\"ConvertedCompYearly\"]]\n",
    "df = df.rename({\"ConvertedCompYearly\":\"Salary\"},axis = 1)\n",
    "df.head()"
   ]
  },
  {
   "cell_type": "code",
   "execution_count": 6,
   "id": "44a402d4",
   "metadata": {},
   "outputs": [
    {
     "data": {
      "text/html": [
       "<div>\n",
       "<style scoped>\n",
       "    .dataframe tbody tr th:only-of-type {\n",
       "        vertical-align: middle;\n",
       "    }\n",
       "\n",
       "    .dataframe tbody tr th {\n",
       "        vertical-align: top;\n",
       "    }\n",
       "\n",
       "    .dataframe thead th {\n",
       "        text-align: right;\n",
       "    }\n",
       "</style>\n",
       "<table border=\"1\" class=\"dataframe\">\n",
       "  <thead>\n",
       "    <tr style=\"text-align: right;\">\n",
       "      <th></th>\n",
       "      <th>Country</th>\n",
       "      <th>EdLevel</th>\n",
       "      <th>YearsCodePro</th>\n",
       "      <th>Employment</th>\n",
       "      <th>Salary</th>\n",
       "    </tr>\n",
       "  </thead>\n",
       "  <tbody>\n",
       "    <tr>\n",
       "      <th>0</th>\n",
       "      <td>Slovakia</td>\n",
       "      <td>Secondary school (e.g. American high school, G...</td>\n",
       "      <td>NaN</td>\n",
       "      <td>Independent contractor, freelancer, or self-em...</td>\n",
       "      <td>62268.0</td>\n",
       "    </tr>\n",
       "    <tr>\n",
       "      <th>9</th>\n",
       "      <td>Sweden</td>\n",
       "      <td>Master’s degree (M.A., M.S., M.Eng., MBA, etc.)</td>\n",
       "      <td>4</td>\n",
       "      <td>Employed full-time</td>\n",
       "      <td>51552.0</td>\n",
       "    </tr>\n",
       "    <tr>\n",
       "      <th>11</th>\n",
       "      <td>Spain</td>\n",
       "      <td>Bachelor’s degree (B.A., B.S., B.Eng., etc.)</td>\n",
       "      <td>5</td>\n",
       "      <td>Employed full-time</td>\n",
       "      <td>46482.0</td>\n",
       "    </tr>\n",
       "    <tr>\n",
       "      <th>12</th>\n",
       "      <td>Germany</td>\n",
       "      <td>Master’s degree (M.A., M.S., M.Eng., MBA, etc.)</td>\n",
       "      <td>6</td>\n",
       "      <td>Employed full-time</td>\n",
       "      <td>77290.0</td>\n",
       "    </tr>\n",
       "    <tr>\n",
       "      <th>16</th>\n",
       "      <td>Turkey</td>\n",
       "      <td>Bachelor’s degree (B.A., B.S., B.Eng., etc.)</td>\n",
       "      <td>2</td>\n",
       "      <td>Employed full-time</td>\n",
       "      <td>17748.0</td>\n",
       "    </tr>\n",
       "  </tbody>\n",
       "</table>\n",
       "</div>"
      ],
      "text/plain": [
       "     Country                                            EdLevel YearsCodePro  \\\n",
       "0   Slovakia  Secondary school (e.g. American high school, G...          NaN   \n",
       "9     Sweden    Master’s degree (M.A., M.S., M.Eng., MBA, etc.)            4   \n",
       "11     Spain       Bachelor’s degree (B.A., B.S., B.Eng., etc.)            5   \n",
       "12   Germany    Master’s degree (M.A., M.S., M.Eng., MBA, etc.)            6   \n",
       "16    Turkey       Bachelor’s degree (B.A., B.S., B.Eng., etc.)            2   \n",
       "\n",
       "                                           Employment   Salary  \n",
       "0   Independent contractor, freelancer, or self-em...  62268.0  \n",
       "9                                  Employed full-time  51552.0  \n",
       "11                                 Employed full-time  46482.0  \n",
       "12                                 Employed full-time  77290.0  \n",
       "16                                 Employed full-time  17748.0  "
      ]
     },
     "execution_count": 6,
     "metadata": {},
     "output_type": "execute_result"
    }
   ],
   "source": [
    "df = df[df['Salary'].notnull()]\n",
    "df.head()"
   ]
  },
  {
   "cell_type": "code",
   "execution_count": 7,
   "id": "d28b9c01",
   "metadata": {},
   "outputs": [
    {
     "name": "stdout",
     "output_type": "stream",
     "text": [
      "<class 'pandas.core.frame.DataFrame'>\n",
      "Int64Index: 46844 entries, 0 to 83438\n",
      "Data columns (total 5 columns):\n",
      " #   Column        Non-Null Count  Dtype  \n",
      "---  ------        --------------  -----  \n",
      " 0   Country       46844 non-null  object \n",
      " 1   EdLevel       46823 non-null  object \n",
      " 2   YearsCodePro  46391 non-null  object \n",
      " 3   Employment    46831 non-null  object \n",
      " 4   Salary        46844 non-null  float64\n",
      "dtypes: float64(1), object(4)\n",
      "memory usage: 2.1+ MB\n"
     ]
    }
   ],
   "source": [
    "df.info()"
   ]
  },
  {
   "cell_type": "code",
   "execution_count": 8,
   "id": "eee5452c",
   "metadata": {},
   "outputs": [],
   "source": [
    "data = df.copy()"
   ]
  },
  {
   "cell_type": "code",
   "execution_count": 9,
   "id": "e527f2c4",
   "metadata": {},
   "outputs": [
    {
     "data": {
      "text/plain": [
       "Country           0\n",
       "EdLevel          21\n",
       "YearsCodePro    453\n",
       "Employment       13\n",
       "Salary            0\n",
       "dtype: int64"
      ]
     },
     "execution_count": 9,
     "metadata": {},
     "output_type": "execute_result"
    }
   ],
   "source": [
    "data.isnull().sum()"
   ]
  },
  {
   "cell_type": "code",
   "execution_count": 10,
   "id": "b1f9b328",
   "metadata": {},
   "outputs": [
    {
     "data": {
      "text/plain": [
       "Country         0.000000\n",
       "EdLevel         0.044830\n",
       "YearsCodePro    0.967040\n",
       "Employment      0.027752\n",
       "Salary          0.000000\n",
       "dtype: float64"
      ]
     },
     "execution_count": 10,
     "metadata": {},
     "output_type": "execute_result"
    }
   ],
   "source": [
    "data.isnull().mean()*100"
   ]
  },
  {
   "cell_type": "markdown",
   "id": "7b451b35",
   "metadata": {},
   "source": [
    "#### As this has very less percentage of missing values dropping them wont distort the data"
   ]
  },
  {
   "cell_type": "code",
   "execution_count": 11,
   "id": "a9e89faa",
   "metadata": {},
   "outputs": [
    {
     "data": {
      "text/plain": [
       "Country         0\n",
       "EdLevel         0\n",
       "YearsCodePro    0\n",
       "Employment      0\n",
       "Salary          0\n",
       "dtype: int64"
      ]
     },
     "execution_count": 11,
     "metadata": {},
     "output_type": "execute_result"
    }
   ],
   "source": [
    "data = data.dropna()\n",
    "data.isnull().sum()"
   ]
  },
  {
   "cell_type": "code",
   "execution_count": 12,
   "id": "f72bd5ab",
   "metadata": {},
   "outputs": [
    {
     "data": {
      "text/plain": [
       "count                  46359\n",
       "unique                     5\n",
       "top       Employed full-time\n",
       "freq                   40211\n",
       "Name: Employment, dtype: object"
      ]
     },
     "execution_count": 12,
     "metadata": {},
     "output_type": "execute_result"
    }
   ],
   "source": [
    "data[\"Employment\"].describe()"
   ]
  },
  {
   "cell_type": "code",
   "execution_count": 13,
   "id": "357e4e97",
   "metadata": {},
   "outputs": [
    {
     "data": {
      "text/plain": [
       "Employed full-time                                      40211\n",
       "Independent contractor, freelancer, or self-employed     4712\n",
       "Employed part-time                                       1389\n",
       "I prefer not to say                                        31\n",
       "Retired                                                    16\n",
       "Name: Employment, dtype: int64"
      ]
     },
     "execution_count": 13,
     "metadata": {},
     "output_type": "execute_result"
    }
   ],
   "source": [
    "data[\"Employment\"].value_counts()\n"
   ]
  },
  {
   "cell_type": "code",
   "execution_count": 14,
   "id": "3219fe9c",
   "metadata": {},
   "outputs": [],
   "source": [
    "data = data.loc[(data.Employment == \"Employed full-time\") + (data.Employment == \"Independent contractor, freelancer, or self-employed\")]"
   ]
  },
  {
   "cell_type": "code",
   "execution_count": 15,
   "id": "b21548e6",
   "metadata": {},
   "outputs": [
    {
     "ename": "NameError",
     "evalue": "name 'dt' is not defined",
     "output_type": "error",
     "traceback": [
      "\u001b[1;31m---------------------------------------------------------------------------\u001b[0m",
      "\u001b[1;31mNameError\u001b[0m                                 Traceback (most recent call last)",
      "\u001b[1;32m~\\AppData\\Local\\Temp/ipykernel_4936/703633321.py\u001b[0m in \u001b[0;36m<module>\u001b[1;34m\u001b[0m\n\u001b[1;32m----> 1\u001b[1;33m \u001b[0mprint\u001b[0m\u001b[1;33m(\u001b[0m\u001b[0mdt\u001b[0m\u001b[1;33m.\u001b[0m\u001b[0mshape\u001b[0m\u001b[1;33m)\u001b[0m\u001b[1;33m\u001b[0m\u001b[1;33m\u001b[0m\u001b[0m\n\u001b[0m\u001b[0;32m      2\u001b[0m \u001b[1;36m40211\u001b[0m\u001b[1;33m+\u001b[0m\u001b[1;36m4712\u001b[0m\u001b[1;33m\u001b[0m\u001b[1;33m\u001b[0m\u001b[0m\n",
      "\u001b[1;31mNameError\u001b[0m: name 'dt' is not defined"
     ]
    }
   ],
   "source": [
    "print(dt.shape)\n",
    "40211+4712"
   ]
  },
  {
   "cell_type": "code",
   "execution_count": 16,
   "id": "e3ad7c2e",
   "metadata": {},
   "outputs": [
    {
     "data": {
      "text/html": [
       "<div>\n",
       "<style scoped>\n",
       "    .dataframe tbody tr th:only-of-type {\n",
       "        vertical-align: middle;\n",
       "    }\n",
       "\n",
       "    .dataframe tbody tr th {\n",
       "        vertical-align: top;\n",
       "    }\n",
       "\n",
       "    .dataframe thead th {\n",
       "        text-align: right;\n",
       "    }\n",
       "</style>\n",
       "<table border=\"1\" class=\"dataframe\">\n",
       "  <thead>\n",
       "    <tr style=\"text-align: right;\">\n",
       "      <th></th>\n",
       "      <th>Country</th>\n",
       "      <th>EdLevel</th>\n",
       "      <th>YearsCodePro</th>\n",
       "      <th>Employment</th>\n",
       "      <th>Salary</th>\n",
       "    </tr>\n",
       "  </thead>\n",
       "  <tbody>\n",
       "    <tr>\n",
       "      <th>9</th>\n",
       "      <td>Sweden</td>\n",
       "      <td>Master’s degree (M.A., M.S., M.Eng., MBA, etc.)</td>\n",
       "      <td>4</td>\n",
       "      <td>Employed full-time</td>\n",
       "      <td>51552.0</td>\n",
       "    </tr>\n",
       "    <tr>\n",
       "      <th>11</th>\n",
       "      <td>Spain</td>\n",
       "      <td>Bachelor’s degree (B.A., B.S., B.Eng., etc.)</td>\n",
       "      <td>5</td>\n",
       "      <td>Employed full-time</td>\n",
       "      <td>46482.0</td>\n",
       "    </tr>\n",
       "    <tr>\n",
       "      <th>12</th>\n",
       "      <td>Germany</td>\n",
       "      <td>Master’s degree (M.A., M.S., M.Eng., MBA, etc.)</td>\n",
       "      <td>6</td>\n",
       "      <td>Employed full-time</td>\n",
       "      <td>77290.0</td>\n",
       "    </tr>\n",
       "    <tr>\n",
       "      <th>16</th>\n",
       "      <td>Turkey</td>\n",
       "      <td>Bachelor’s degree (B.A., B.S., B.Eng., etc.)</td>\n",
       "      <td>2</td>\n",
       "      <td>Employed full-time</td>\n",
       "      <td>17748.0</td>\n",
       "    </tr>\n",
       "    <tr>\n",
       "      <th>17</th>\n",
       "      <td>Canada</td>\n",
       "      <td>Bachelor’s degree (B.A., B.S., B.Eng., etc.)</td>\n",
       "      <td>6</td>\n",
       "      <td>Employed full-time</td>\n",
       "      <td>46135.0</td>\n",
       "    </tr>\n",
       "  </tbody>\n",
       "</table>\n",
       "</div>"
      ],
      "text/plain": [
       "    Country                                          EdLevel YearsCodePro  \\\n",
       "9    Sweden  Master’s degree (M.A., M.S., M.Eng., MBA, etc.)            4   \n",
       "11    Spain     Bachelor’s degree (B.A., B.S., B.Eng., etc.)            5   \n",
       "12  Germany  Master’s degree (M.A., M.S., M.Eng., MBA, etc.)            6   \n",
       "16   Turkey     Bachelor’s degree (B.A., B.S., B.Eng., etc.)            2   \n",
       "17   Canada     Bachelor’s degree (B.A., B.S., B.Eng., etc.)            6   \n",
       "\n",
       "            Employment   Salary  \n",
       "9   Employed full-time  51552.0  \n",
       "11  Employed full-time  46482.0  \n",
       "12  Employed full-time  77290.0  \n",
       "16  Employed full-time  17748.0  \n",
       "17  Employed full-time  46135.0  "
      ]
     },
     "execution_count": 16,
     "metadata": {},
     "output_type": "execute_result"
    }
   ],
   "source": [
    "data.head()"
   ]
  },
  {
   "cell_type": "code",
   "execution_count": 17,
   "id": "c1050d4f",
   "metadata": {},
   "outputs": [
    {
     "data": {
      "text/plain": [
       "<AxesSubplot:>"
      ]
     },
     "execution_count": 17,
     "metadata": {},
     "output_type": "execute_result"
    },
    {
     "data": {
      "image/png": "[encoded data removed]",
      "text/plain": [
       "<Figure size 432x288 with 1 Axes>"
      ]
     },
     "metadata": {
      "needs_background": "light"
     },
     "output_type": "display_data"
    }
   ],
   "source": [
    "data[\"Country\"].value_counts().plot.bar()"
   ]
  },
  {
   "cell_type": "code",
   "execution_count": 18,
   "id": "2d71697a",
   "metadata": {},
   "outputs": [],
   "source": [
    "def req_categories(categories,cutoff):\n",
    "    cat_map = {}\n",
    "    for i in range(len(categories)):\n",
    "        if categories.values[i] >= cutoff:\n",
    "            cat_map[categories.index[i]] = categories.index[i]\n",
    "        else:\n",
    "            cat_map[categories.index[i]] = 'Other'\n",
    "    return cat_map"
   ]
  },
  {
   "cell_type": "code",
   "execution_count": 21,
   "id": "9607f979",
   "metadata": {},
   "outputs": [
    {
     "data": {
      "text/plain": [
       "{'United States of America': 'United States of America',\n",
       " 'India': 'India',\n",
       " 'Germany': 'Germany',\n",
       " 'United Kingdom of Great Britain and Northern Ireland': 'United Kingdom of Great Britain and Northern Ireland',\n",
       " 'Canada': 'Canada',\n",
       " 'France': 'France',\n",
       " 'Brazil': 'Brazil',\n",
       " 'Poland': 'Poland',\n",
       " 'Spain': 'Spain',\n",
       " 'Netherlands': 'Netherlands',\n",
       " 'Australia': 'Australia',\n",
       " 'Italy': 'Italy',\n",
       " 'Russian Federation': 'Russian Federation',\n",
       " 'Sweden': 'Sweden',\n",
       " 'Turkey': 'Turkey',\n",
       " 'Switzerland': 'Switzerland',\n",
       " 'Israel': 'Israel',\n",
       " 'Ukraine': 'Ukraine',\n",
       " 'Mexico': 'Mexico',\n",
       " 'Iran, Islamic Republic of...': 'Iran, Islamic Republic of...',\n",
       " 'Czech Republic': 'Czech Republic',\n",
       " 'Norway': 'Norway',\n",
       " 'Belgium': 'Belgium',\n",
       " 'Denmark': 'Other',\n",
       " 'Austria': 'Other',\n",
       " 'Argentina': 'Other',\n",
       " 'Finland': 'Other',\n",
       " 'South Africa': 'Other',\n",
       " 'Pakistan': 'Other',\n",
       " 'Romania': 'Other',\n",
       " 'New Zealand': 'Other',\n",
       " 'Portugal': 'Other',\n",
       " 'Greece': 'Other',\n",
       " 'China': 'Other',\n",
       " 'Colombia': 'Other',\n",
       " 'Japan': 'Other',\n",
       " 'Hungary': 'Other',\n",
       " 'Bangladesh': 'Other',\n",
       " 'Bulgaria': 'Other',\n",
       " 'Ireland': 'Other',\n",
       " 'Indonesia': 'Other',\n",
       " 'Egypt': 'Other',\n",
       " 'Nigeria': 'Other',\n",
       " 'Philippines': 'Other',\n",
       " 'Sri Lanka': 'Other',\n",
       " 'Taiwan': 'Other',\n",
       " 'Serbia': 'Other',\n",
       " 'Croatia': 'Other',\n",
       " 'Malaysia': 'Other',\n",
       " 'Slovenia': 'Other',\n",
       " 'Singapore': 'Other',\n",
       " 'Viet Nam': 'Other',\n",
       " 'Chile': 'Other',\n",
       " 'Slovakia': 'Other',\n",
       " 'Lithuania': 'Other',\n",
       " 'Kenya': 'Other',\n",
       " 'Uruguay': 'Other',\n",
       " 'Nepal': 'Other',\n",
       " 'Thailand': 'Other',\n",
       " 'Belarus': 'Other',\n",
       " 'Hong Kong (S.A.R.)': 'Other',\n",
       " 'Peru': 'Other',\n",
       " 'Estonia': 'Other',\n",
       " 'Georgia': 'Other',\n",
       " 'South Korea': 'Other',\n",
       " 'United Arab Emirates': 'Other',\n",
       " 'Dominican Republic': 'Other',\n",
       " 'Ecuador': 'Other',\n",
       " 'Bosnia and Herzegovina': 'Other',\n",
       " 'Morocco': 'Other',\n",
       " 'Latvia': 'Other',\n",
       " 'Venezuela, Bolivarian Republic of...': 'Other',\n",
       " 'Tunisia': 'Other',\n",
       " 'Costa Rica': 'Other',\n",
       " 'Saudi Arabia': 'Other',\n",
       " 'Armenia': 'Other',\n",
       " 'Lebanon': 'Other',\n",
       " 'Guatemala': 'Other',\n",
       " 'Kazakhstan': 'Other',\n",
       " 'Paraguay': 'Other',\n",
       " 'Albania': 'Other',\n",
       " 'The former Yugoslav Republic of Macedonia': 'Other',\n",
       " 'Ghana': 'Other',\n",
       " 'Uganda': 'Other',\n",
       " 'Uzbekistan': 'Other',\n",
       " 'Cyprus': 'Other',\n",
       " 'Bolivia': 'Other',\n",
       " 'Luxembourg': 'Other',\n",
       " 'Republic of Moldova': 'Other',\n",
       " 'Jordan': 'Other',\n",
       " 'Republic of Korea': 'Other',\n",
       " 'Malta': 'Other',\n",
       " 'Iceland': 'Other',\n",
       " 'Azerbaijan': 'Other',\n",
       " 'Cuba': 'Other',\n",
       " 'Ethiopia': 'Other',\n",
       " 'Panama': 'Other',\n",
       " 'United Republic of Tanzania': 'Other',\n",
       " 'Syrian Arab Republic': 'Other',\n",
       " 'Kosovo': 'Other',\n",
       " 'El Salvador': 'Other',\n",
       " 'Myanmar': 'Other',\n",
       " 'Nomadic': 'Other',\n",
       " 'Iraq': 'Other',\n",
       " 'Honduras': 'Other',\n",
       " 'Palestine': 'Other',\n",
       " 'Kuwait': 'Other',\n",
       " 'Mauritius': 'Other',\n",
       " 'Rwanda': 'Other',\n",
       " 'Montenegro': 'Other',\n",
       " 'Kyrgyzstan': 'Other',\n",
       " 'Trinidad and Tobago': 'Other',\n",
       " 'Algeria': 'Other',\n",
       " 'Cameroon': 'Other',\n",
       " 'Madagascar': 'Other',\n",
       " 'Mongolia': 'Other',\n",
       " 'Afghanistan': 'Other',\n",
       " 'Zambia': 'Other',\n",
       " 'Zimbabwe': 'Other',\n",
       " 'Cambodia': 'Other',\n",
       " 'Nicaragua': 'Other',\n",
       " 'Namibia': 'Other',\n",
       " 'Angola': 'Other',\n",
       " 'Sudan': 'Other',\n",
       " 'Bahrain': 'Other',\n",
       " \"Côte d'Ivoire\": 'Other',\n",
       " 'Jamaica': 'Other',\n",
       " 'Democratic Republic of the Congo': 'Other',\n",
       " 'Maldives': 'Other',\n",
       " 'Qatar': 'Other',\n",
       " 'Senegal': 'Other',\n",
       " 'Benin': 'Other',\n",
       " 'Barbados': 'Other',\n",
       " 'Mozambique': 'Other',\n",
       " 'Congo, Republic of the...': 'Other',\n",
       " 'Yemen': 'Other',\n",
       " 'Swaziland': 'Other',\n",
       " 'Oman': 'Other',\n",
       " 'Turkmenistan': 'Other',\n",
       " 'Andorra': 'Other',\n",
       " 'Tajikistan': 'Other',\n",
       " 'Lesotho': 'Other',\n",
       " 'Isle of Man': 'Other',\n",
       " 'Belize': 'Other',\n",
       " 'Haiti': 'Other',\n",
       " 'Malawi': 'Other',\n",
       " 'Mauritania': 'Other',\n",
       " 'Suriname': 'Other',\n",
       " 'Niger': 'Other',\n",
       " 'Togo': 'Other',\n",
       " 'Gambia': 'Other',\n",
       " 'Botswana': 'Other',\n",
       " 'Guyana': 'Other',\n",
       " \"Lao People's Democratic Republic\": 'Other',\n",
       " 'Cape Verde': 'Other',\n",
       " 'Bhutan': 'Other',\n",
       " 'Somalia': 'Other',\n",
       " 'Libyan Arab Jamahiriya': 'Other',\n",
       " 'Burundi': 'Other',\n",
       " 'Fiji': 'Other',\n",
       " 'Burkina Faso': 'Other',\n",
       " 'Saint Vincent and the Grenadines': 'Other',\n",
       " 'San Marino': 'Other',\n",
       " 'Saint Lucia': 'Other',\n",
       " 'Djibouti': 'Other',\n",
       " 'Dominica': 'Other',\n",
       " 'Monaco': 'Other',\n",
       " 'Saint Kitts and Nevis': 'Other',\n",
       " 'Guinea': 'Other',\n",
       " 'North Korea': 'Other'}"
      ]
     },
     "execution_count": 21,
     "metadata": {},
     "output_type": "execute_result"
    }
   ],
   "source": [
    "Country_map"
   ]
  },
  {
   "cell_type": "code",
   "execution_count": 20,
   "id": "96300052",
   "metadata": {},
   "outputs": [
    {
     "data": {
      "text/plain": [
       "Other                                                   10385\n",
       "United States of America                                 9677\n",
       "India                                                    3694\n",
       "Germany                                                  3014\n",
       "United Kingdom of Great Britain and Northern Ireland     2869\n",
       "Canada                                                   1700\n",
       "France                                                   1590\n",
       "Brazil                                                   1515\n",
       "Poland                                                   1046\n",
       "Spain                                                     997\n",
       "Netherlands                                               959\n",
       "Australia                                                 912\n",
       "Italy                                                     882\n",
       "Russian Federation                                        840\n",
       "Sweden                                                    806\n",
       "Turkey                                                    517\n",
       "Switzerland                                               485\n",
       "Israel                                                    466\n",
       "Ukraine                                                   453\n",
       "Mexico                                                    435\n",
       "Iran, Islamic Republic of...                              426\n",
       "Czech Republic                                            421\n",
       "Norway                                                    419\n",
       "Belgium                                                   415\n",
       "Name: Country, dtype: int64"
      ]
     },
     "execution_count": 20,
     "metadata": {},
     "output_type": "execute_result"
    }
   ],
   "source": [
    "Country_map = req_categories(data.Country.value_counts(),400)\n",
    "data[\"Country\"] = data[\"Country\"].map(Country_map)\n",
    "data.Country.value_counts()"
   ]
  },
  {
   "cell_type": "code",
   "execution_count": 22,
   "id": "0f255b91",
   "metadata": {},
   "outputs": [
    {
     "data": {
      "image/png": "[encoded data removed]",
      "text/plain": [
       "<Figure size 864x504 with 1 Axes>"
      ]
     },
     "metadata": {
      "needs_background": "light"
     },
     "output_type": "display_data"
    }
   ],
   "source": [
    "import matplotlib.pyplot as plt\n",
    "fig,ax = plt.subplots(1,1,figsize= (12,7))\n",
    "data.boxplot('Salary','Country',ax=ax)\n",
    "plt.suptitle('')\n",
    "plt.title('salary vs country')\n",
    "plt.ylabel('Salary(10^7)')\n",
    "plt.xticks(rotation = 90)\n",
    "plt.show()"
   ]
  },
  {
   "cell_type": "code",
   "execution_count": 23,
   "id": "ed7bb3c6",
   "metadata": {},
   "outputs": [],
   "source": [
    "data = data[data[\"Salary\"] <= 500000]\n",
    "data = data[data[\"Salary\"] >= 10000]\n",
    "data = data[data[\"Country\"] != 'Other']"
   ]
  },
  {
   "cell_type": "code",
   "execution_count": 24,
   "id": "f31a42a0",
   "metadata": {},
   "outputs": [
    {
     "data": {
      "image/png": "[encoded data removed]",
      "text/plain": [
       "<Figure size 1008x504 with 1 Axes>"
      ]
     },
     "metadata": {
      "needs_background": "light"
     },
     "output_type": "display_data"
    }
   ],
   "source": [
    "fig,ax = plt.subplots(1,1,figsize= (14,7))\n",
    "data.boxplot('Salary','Country',ax=ax)\n",
    "plt.suptitle('')\n",
    "plt.title('salary vs country')\n",
    "plt.ylabel('Salary(10^7)')\n",
    "plt.xticks(rotation = 90)\n",
    "plt.show()"
   ]
  },
  {
   "cell_type": "code",
   "execution_count": 25,
   "id": "8e8ed4d1",
   "metadata": {},
   "outputs": [
    {
     "data": {
      "text/plain": [
       "array(['4', '5', '6', '2', '18', '21', '16', '10', 'Less than 1 year',\n",
       "       '15', '3', '12', '8', '17', '1', '14', '26', '25', '34', '11',\n",
       "       '24', '22', '13', '9', '7', '31', '39', '20', '27', '23', '35',\n",
       "       '30', '19', '33', 'More than 50 years', '37', '43', '40', '29',\n",
       "       '38', '32', '42', '28', '46', '36', '44', '47', '45', '41', '50',\n",
       "       '49', '48'], dtype=object)"
      ]
     },
     "execution_count": 25,
     "metadata": {},
     "output_type": "execute_result"
    }
   ],
   "source": [
    "data[\"YearsCodePro\"].unique()"
   ]
  },
  {
   "cell_type": "code",
   "execution_count": 26,
   "id": "1e5a2994",
   "metadata": {},
   "outputs": [],
   "source": [
    "def clean_exp(exp):\n",
    "    if exp == \"More than 50 years\":\n",
    "        return 50\n",
    "    if exp == \"Less than 1 year\":\n",
    "        return 0.5\n",
    "    return float(exp)"
   ]
  },
  {
   "cell_type": "code",
   "execution_count": 27,
   "id": "8ba36aa1",
   "metadata": {},
   "outputs": [],
   "source": [
    "data['YearsCodePro'] = data[\"YearsCodePro\"].apply(clean_exp)"
   ]
  },
  {
   "cell_type": "code",
   "execution_count": 28,
   "id": "7a13e863",
   "metadata": {},
   "outputs": [
    {
     "data": {
      "text/plain": [
       "9         51552.0\n",
       "11        46482.0\n",
       "12        77290.0\n",
       "16        17748.0\n",
       "17        46135.0\n",
       "           ...   \n",
       "83432     80169.0\n",
       "83433     18326.0\n",
       "83434    160500.0\n",
       "83436     90000.0\n",
       "83438     21168.0\n",
       "Name: Salary, Length: 31472, dtype: float64"
      ]
     },
     "execution_count": 28,
     "metadata": {},
     "output_type": "execute_result"
    }
   ],
   "source": [
    "data['Salary']"
   ]
  },
  {
   "cell_type": "code",
   "execution_count": 29,
   "id": "cfa58600",
   "metadata": {},
   "outputs": [
    {
     "data": {
      "text/plain": [
       "array(['Master’s degree (M.A., M.S., M.Eng., MBA, etc.)',\n",
       "       'Bachelor’s degree (B.A., B.S., B.Eng., etc.)',\n",
       "       'Some college/university study without earning a degree',\n",
       "       'Professional degree (JD, MD, etc.)',\n",
       "       'Other doctoral degree (Ph.D., Ed.D., etc.)', 'Something else',\n",
       "       'Primary/elementary school', 'Associate degree (A.A., A.S., etc.)',\n",
       "       'Secondary school (e.g. American high school, German Realschule or Gymnasium, etc.)'],\n",
       "      dtype=object)"
      ]
     },
     "execution_count": 29,
     "metadata": {},
     "output_type": "execute_result"
    }
   ],
   "source": [
    "data[\"EdLevel\"].unique()"
   ]
  },
  {
   "cell_type": "code",
   "execution_count": 30,
   "id": "e990b5bd",
   "metadata": {},
   "outputs": [],
   "source": [
    "def clean_education(degree):\n",
    "    if 'Bachelor’s degree' in degree:\n",
    "        return 'Bachelor’s degree'\n",
    "    if 'Master’s degree' in degree:\n",
    "        return 'Master’s degree'\n",
    "    if 'Professional degree' in degree or 'Other doctoral degree' in degree:\n",
    "        return 'Post_grad'\n",
    "    return 'Less than a Bachelors'\n",
    "\n",
    "data[\"EdLevel\"] = data[\"EdLevel\"].apply(clean_education)"
   ]
  },
  {
   "cell_type": "code",
   "execution_count": 31,
   "id": "c4910b26",
   "metadata": {},
   "outputs": [
    {
     "data": {
      "text/plain": [
       "array(['Master’s degree', 'Bachelor’s degree', 'Less than a Bachelors',\n",
       "       'Post_grad'], dtype=object)"
      ]
     },
     "execution_count": 31,
     "metadata": {},
     "output_type": "execute_result"
    }
   ],
   "source": [
    "data[\"EdLevel\"].unique()"
   ]
  },
  {
   "cell_type": "code",
   "execution_count": 32,
   "id": "1537edaa",
   "metadata": {},
   "outputs": [
    {
     "name": "stdout",
     "output_type": "stream",
     "text": [
      "<class 'pandas.core.frame.DataFrame'>\n",
      "Int64Index: 31472 entries, 9 to 83438\n",
      "Data columns (total 5 columns):\n",
      " #   Column        Non-Null Count  Dtype  \n",
      "---  ------        --------------  -----  \n",
      " 0   Country       31472 non-null  object \n",
      " 1   EdLevel       31472 non-null  object \n",
      " 2   YearsCodePro  31472 non-null  float64\n",
      " 3   Employment    31472 non-null  object \n",
      " 4   Salary        31472 non-null  float64\n",
      "dtypes: float64(2), object(3)\n",
      "memory usage: 1.4+ MB\n"
     ]
    }
   ],
   "source": [
    "data.info()"
   ]
  },
  {
   "cell_type": "code",
   "execution_count": 33,
   "id": "6edfc080",
   "metadata": {},
   "outputs": [
    {
     "data": {
      "text/plain": [
       "array([2, 0, 1, 3])"
      ]
     },
     "execution_count": 33,
     "metadata": {},
     "output_type": "execute_result"
    }
   ],
   "source": [
    "from sklearn.preprocessing import LabelEncoder\n",
    "le = LabelEncoder()\n",
    "data[\"EdLevel\"]  = le.fit_transform(data[\"EdLevel\"])\n",
    "data[\"EdLevel\"].unique()"
   ]
  },
  {
   "cell_type": "code",
   "execution_count": 34,
   "id": "76c2210a",
   "metadata": {},
   "outputs": [
    {
     "data": {
      "text/plain": [
       "array([17, 16,  6, 19,  3,  5, 18, 21, 15,  9, 20, 22,  2, 10, 12, 14,  0,\n",
       "        1,  8,  7, 13,  4, 11])"
      ]
     },
     "execution_count": 34,
     "metadata": {},
     "output_type": "execute_result"
    }
   ],
   "source": [
    "le_c = LabelEncoder()\n",
    "data[\"Country\"] = le.fit_transform(data[\"Country\"])\n",
    "data[\"Country\"].unique()"
   ]
  },
  {
   "cell_type": "code",
   "execution_count": 35,
   "id": "c437f8c7",
   "metadata": {},
   "outputs": [],
   "source": [
    "data = data.drop('Employment',axis = 1)"
   ]
  },
  {
   "cell_type": "code",
   "execution_count": 36,
   "id": "b725179b",
   "metadata": {},
   "outputs": [],
   "source": [
    "X = data.drop('Salary',axis =1)\n",
    "y = data[\"Salary\"]"
   ]
  },
  {
   "cell_type": "code",
   "execution_count": 37,
   "id": "1dbc5411",
   "metadata": {},
   "outputs": [],
   "source": [
    "from sklearn.linear_model import LinearRegression\n",
    "from sklearn.model_selection import train_test_split,GridSearchCV,RandomizedSearchCV\n",
    "from sklearn.preprocessing import MinMaxScaler\n",
    "from sklearn.metrics import classification_report,confusion_matrix,mean_absolute_error,mean_squared_error\n",
    "from sklearn.ensemble import GradientBoostingRegressor\n",
    "from sklearn.ensemble import RandomForestRegressor\n",
    "from sklearn.tree import DecisionTreeRegressor\n",
    "import numpy as np\n",
    "from sklearn.pipeline import Pipeline"
   ]
  },
  {
   "cell_type": "code",
   "execution_count": 38,
   "id": "602072fc",
   "metadata": {},
   "outputs": [],
   "source": [
    "x_train,x_test,y_train,y_test = train_test_split(X,y,test_size=0.25,random_state=42)"
   ]
  },
  {
   "cell_type": "code",
   "execution_count": 39,
   "id": "48053f46",
   "metadata": {},
   "outputs": [],
   "source": [
    "y1 = y_train.values\n",
    "y_1= y1.reshape(-1,1)"
   ]
  },
  {
   "cell_type": "code",
   "execution_count": 40,
   "id": "709d988a",
   "metadata": {},
   "outputs": [],
   "source": [
    "y2 = y_test.values\n",
    "y_2 = y2.reshape(-1,1)"
   ]
  },
  {
   "cell_type": "code",
   "execution_count": 41,
   "id": "952caba6",
   "metadata": {},
   "outputs": [
    {
     "data": {
      "text/plain": [
       "(1, 1)"
      ]
     },
     "execution_count": 41,
     "metadata": {},
     "output_type": "execute_result"
    }
   ],
   "source": [
    "y1.ndim,y2.ndim"
   ]
  },
  {
   "cell_type": "code",
   "execution_count": null,
   "id": "3d56a480",
   "metadata": {},
   "outputs": [],
   "source": [
    "# prepare the model with input scaling\n",
    "pipeline = Pipeline(steps=[('normalize', MinMaxScaler()), ('model', RandomForestRegressor(random_state=0))])\n",
    "# fit pipeline\n",
    "pipeline.fit(x_train, y1)\n",
    "# make predictions\n",
    "yhat = pipeline.predict(x_test)"
   ]
  },
  {
   "cell_type": "code",
   "execution_count": 42,
   "id": "6eeb7c82",
   "metadata": {},
   "outputs": [
    {
     "data": {
      "text/plain": [
       "MinMaxScaler()"
      ]
     },
     "execution_count": 42,
     "metadata": {},
     "output_type": "execute_result"
    }
   ],
   "source": [
    "target_scaler = MinMaxScaler()\n",
    "target_scaler.fit(y_1)"
   ]
  },
  {
   "cell_type": "code",
   "execution_count": 43,
   "id": "66eb10cd",
   "metadata": {},
   "outputs": [],
   "source": [
    "train_y = target_scaler.transform(y_1)\n",
    "test_y = target_scaler.transform(y_2)"
   ]
  },
  {
   "cell_type": "markdown",
   "id": "97552ffe",
   "metadata": {},
   "source": [
    "### Linear reg"
   ]
  },
  {
   "cell_type": "code",
   "execution_count": 44,
   "id": "0b1253f5",
   "metadata": {},
   "outputs": [
    {
     "data": {
      "text/plain": [
       "LinearRegression()"
      ]
     },
     "execution_count": 44,
     "metadata": {},
     "output_type": "execute_result"
    }
   ],
   "source": [
    "lr = LinearRegression()\n",
    "lr.fit(x_train,train_y)"
   ]
  },
  {
   "cell_type": "code",
   "execution_count": 45,
   "id": "ec0522bb",
   "metadata": {},
   "outputs": [],
   "source": [
    "yt = lr.predict(x_test)\n",
    "yt = yt.reshape(-1,1)\n",
    "yt = target_scaler.inverse_transform(yt)"
   ]
  },
  {
   "cell_type": "code",
   "execution_count": 46,
   "id": "7d76a00b",
   "metadata": {},
   "outputs": [],
   "source": [
    "error2 = np.sqrt(mean_squared_error(y_test,yt))"
   ]
  },
  {
   "cell_type": "code",
   "execution_count": 47,
   "id": "cf0a3ba4",
   "metadata": {},
   "outputs": [
    {
     "name": "stdout",
     "output_type": "stream",
     "text": [
      "57582.95751538297\n"
     ]
    }
   ],
   "source": [
    "print(error2)"
   ]
  },
  {
   "cell_type": "markdown",
   "id": "d713fc8b",
   "metadata": {},
   "source": [
    "### Random forest"
   ]
  },
  {
   "cell_type": "code",
   "execution_count": 48,
   "id": "7aea04e1",
   "metadata": {},
   "outputs": [
    {
     "name": "stderr",
     "output_type": "stream",
     "text": [
      "C:\\Users\\HP\\AppData\\Local\\Temp/ipykernel_4936/3344373905.py:2: DataConversionWarning: A column-vector y was passed when a 1d array was expected. Please change the shape of y to (n_samples,), for example using ravel().\n",
      "  rf_1.fit(x_train,train_y)\n"
     ]
    },
    {
     "data": {
      "text/plain": [
       "RandomForestRegressor(random_state=0)"
      ]
     },
     "execution_count": 48,
     "metadata": {},
     "output_type": "execute_result"
    }
   ],
   "source": [
    "rf_1 = RandomForestRegressor(random_state=0)\n",
    "rf_1.fit(x_train,train_y)"
   ]
  },
  {
   "cell_type": "code",
   "execution_count": 49,
   "id": "8fa48086",
   "metadata": {},
   "outputs": [],
   "source": [
    "# invert transform on predictions\n",
    "yhat = rf_1.predict(x_test)\n",
    "yhat = yhat.reshape(-1,1)\n",
    "yhat = target_scaler.inverse_transform(yhat)"
   ]
  },
  {
   "cell_type": "code",
   "execution_count": 50,
   "id": "e2d9006d",
   "metadata": {},
   "outputs": [],
   "source": [
    "error1 = np.sqrt(mean_squared_error(y_test,yhat))"
   ]
  },
  {
   "cell_type": "code",
   "execution_count": 51,
   "id": "310b569a",
   "metadata": {},
   "outputs": [
    {
     "name": "stdout",
     "output_type": "stream",
     "text": [
      "52439.795767588934\n"
     ]
    }
   ],
   "source": [
    "print(error1)"
   ]
  },
  {
   "cell_type": "code",
   "execution_count": 52,
   "id": "621b2ff2",
   "metadata": {},
   "outputs": [
    {
     "name": "stdout",
     "output_type": "stream",
     "text": [
      "$52,439.80\n"
     ]
    }
   ],
   "source": [
    "print(\"${:,.02f}\".format(error1))"
   ]
  },
  {
   "cell_type": "code",
   "execution_count": 53,
   "id": "ff2c6db9",
   "metadata": {},
   "outputs": [
    {
     "data": {
      "text/plain": [
       "DecisionTreeRegressor(random_state=0)"
      ]
     },
     "execution_count": 53,
     "metadata": {},
     "output_type": "execute_result"
    }
   ],
   "source": [
    "from sklearn.tree import DecisionTreeRegressor\n",
    "dt_reg = DecisionTreeRegressor(random_state=0)\n",
    "dt_reg.fit(x_train,y1)"
   ]
  },
  {
   "cell_type": "markdown",
   "id": "e7b0e931",
   "metadata": {},
   "source": [
    "\n",
    "### error has decreased compared to linear regression"
   ]
  },
  {
   "cell_type": "code",
   "execution_count": 54,
   "id": "b3a45656",
   "metadata": {},
   "outputs": [],
   "source": [
    "pred_dt = dt_reg.predict(x_test)"
   ]
  },
  {
   "cell_type": "code",
   "execution_count": 55,
   "id": "cf83d626",
   "metadata": {},
   "outputs": [],
   "source": [
    "error_2 = np.sqrt(mean_squared_error(y2,pred_dt))"
   ]
  },
  {
   "cell_type": "code",
   "execution_count": 56,
   "id": "f8912a55",
   "metadata": {},
   "outputs": [
    {
     "name": "stdout",
     "output_type": "stream",
     "text": [
      "$53,035.57\n"
     ]
    }
   ],
   "source": [
    "print(\"${:,.02f}\".format(error_2))"
   ]
  },
  {
   "cell_type": "code",
   "execution_count": 57,
   "id": "d2e54efc",
   "metadata": {},
   "outputs": [
    {
     "data": {
      "text/plain": [
       "GridSearchCV(estimator=DecisionTreeRegressor(random_state=0),\n",
       "             param_grid={'max_depth': [None, 2, 4, 6, 8, 10]},\n",
       "             scoring='neg_mean_squared_error')"
      ]
     },
     "execution_count": 57,
     "metadata": {},
     "output_type": "execute_result"
    }
   ],
   "source": [
    "from sklearn.model_selection import GridSearchCV\n",
    "max_depth = [None,2,4,6,8,10]\n",
    "parameters = {'max_depth':max_depth}\n",
    "regressor = DecisionTreeRegressor(random_state=0)\n",
    "gs = GridSearchCV(regressor,parameters,scoring='neg_mean_squared_error')\n",
    "gs.fit(x_train,y1)"
   ]
  },
  {
   "cell_type": "code",
   "execution_count": 58,
   "id": "f8a3fe9a",
   "metadata": {},
   "outputs": [],
   "source": [
    "regressor = gs.best_estimator_"
   ]
  },
  {
   "cell_type": "code",
   "execution_count": 59,
   "id": "b3b45f7d",
   "metadata": {},
   "outputs": [],
   "source": [
    "regressor.fit(x_train,y1)\n",
    "y_pred = regressor.predict(x_test)\n",
    "error3 = np.sqrt(mean_squared_error(y2,y_pred))"
   ]
  },
  {
   "cell_type": "code",
   "execution_count": 60,
   "id": "a3efab32",
   "metadata": {},
   "outputs": [
    {
     "name": "stdout",
     "output_type": "stream",
     "text": [
      "$51,775.63\n"
     ]
    }
   ],
   "source": [
    "print(\"${:,.02f}\".format(error3))"
   ]
  },
  {
   "cell_type": "code",
   "execution_count": 61,
   "id": "aec09d1e",
   "metadata": {},
   "outputs": [
    {
     "data": {
      "text/html": [
       "<div>\n",
       "<style scoped>\n",
       "    .dataframe tbody tr th:only-of-type {\n",
       "        vertical-align: middle;\n",
       "    }\n",
       "\n",
       "    .dataframe tbody tr th {\n",
       "        vertical-align: top;\n",
       "    }\n",
       "\n",
       "    .dataframe thead th {\n",
       "        text-align: right;\n",
       "    }\n",
       "</style>\n",
       "<table border=\"1\" class=\"dataframe\">\n",
       "  <thead>\n",
       "    <tr style=\"text-align: right;\">\n",
       "      <th></th>\n",
       "      <th>Country</th>\n",
       "      <th>EdLevel</th>\n",
       "      <th>YearsCodePro</th>\n",
       "    </tr>\n",
       "  </thead>\n",
       "  <tbody>\n",
       "    <tr>\n",
       "      <th>13890</th>\n",
       "      <td>21</td>\n",
       "      <td>0</td>\n",
       "      <td>20.0</td>\n",
       "    </tr>\n",
       "    <tr>\n",
       "      <th>5471</th>\n",
       "      <td>22</td>\n",
       "      <td>2</td>\n",
       "      <td>5.0</td>\n",
       "    </tr>\n",
       "    <tr>\n",
       "      <th>35900</th>\n",
       "      <td>22</td>\n",
       "      <td>3</td>\n",
       "      <td>6.0</td>\n",
       "    </tr>\n",
       "    <tr>\n",
       "      <th>4481</th>\n",
       "      <td>7</td>\n",
       "      <td>0</td>\n",
       "      <td>7.0</td>\n",
       "    </tr>\n",
       "    <tr>\n",
       "      <th>50507</th>\n",
       "      <td>22</td>\n",
       "      <td>0</td>\n",
       "      <td>28.0</td>\n",
       "    </tr>\n",
       "    <tr>\n",
       "      <th>...</th>\n",
       "      <td>...</td>\n",
       "      <td>...</td>\n",
       "      <td>...</td>\n",
       "    </tr>\n",
       "    <tr>\n",
       "      <th>78283</th>\n",
       "      <td>7</td>\n",
       "      <td>0</td>\n",
       "      <td>5.0</td>\n",
       "    </tr>\n",
       "    <tr>\n",
       "      <th>13586</th>\n",
       "      <td>1</td>\n",
       "      <td>0</td>\n",
       "      <td>10.0</td>\n",
       "    </tr>\n",
       "    <tr>\n",
       "      <th>2101</th>\n",
       "      <td>21</td>\n",
       "      <td>2</td>\n",
       "      <td>5.0</td>\n",
       "    </tr>\n",
       "    <tr>\n",
       "      <th>41953</th>\n",
       "      <td>10</td>\n",
       "      <td>0</td>\n",
       "      <td>12.0</td>\n",
       "    </tr>\n",
       "    <tr>\n",
       "      <th>60537</th>\n",
       "      <td>22</td>\n",
       "      <td>0</td>\n",
       "      <td>16.0</td>\n",
       "    </tr>\n",
       "  </tbody>\n",
       "</table>\n",
       "<p>23604 rows × 3 columns</p>\n",
       "</div>"
      ],
      "text/plain": [
       "       Country  EdLevel  YearsCodePro\n",
       "13890       21        0          20.0\n",
       "5471        22        2           5.0\n",
       "35900       22        3           6.0\n",
       "4481         7        0           7.0\n",
       "50507       22        0          28.0\n",
       "...        ...      ...           ...\n",
       "78283        7        0           5.0\n",
       "13586        1        0          10.0\n",
       "2101        21        2           5.0\n",
       "41953       10        0          12.0\n",
       "60537       22        0          16.0\n",
       "\n",
       "[23604 rows x 3 columns]"
      ]
     },
     "execution_count": 61,
     "metadata": {},
     "output_type": "execute_result"
    }
   ],
   "source": [
    "x_train"
   ]
  },
  {
   "cell_type": "code",
   "execution_count": 62,
   "id": "b6b61a4b",
   "metadata": {},
   "outputs": [
    {
     "data": {
      "text/plain": [
       "array([['United States', \"Master's degree\", '15']], dtype='<U15')"
      ]
     },
     "execution_count": 62,
     "metadata": {},
     "output_type": "execute_result"
    }
   ],
   "source": [
    "p_array = np.array([[\"United States\",\"Master's degree\",15]])\n",
    "p_array"
   ]
  },
  {
   "cell_type": "code",
   "execution_count": 63,
   "id": "7c56d3ec",
   "metadata": {},
   "outputs": [],
   "source": [
    "le_c = LabelEncoder()\n",
    "p_array[:,0] = le_c.fit_transform(p_array[:,0])\n",
    "p_array[:,1] = le_c.fit_transform(p_array[:,1])\n",
    "p_array = p_array.astype(float)"
   ]
  },
  {
   "cell_type": "code",
   "execution_count": 64,
   "id": "ba48a165",
   "metadata": {},
   "outputs": [
    {
     "data": {
      "text/plain": [
       "array([[ 0.,  0., 15.]])"
      ]
     },
     "execution_count": 64,
     "metadata": {},
     "output_type": "execute_result"
    }
   ],
   "source": [
    "p_array"
   ]
  },
  {
   "cell_type": "code",
   "execution_count": 65,
   "id": "0566b3bb",
   "metadata": {},
   "outputs": [
    {
     "name": "stderr",
     "output_type": "stream",
     "text": [
      "c:\\users\\hp\\documents\\100\\ml_app\\lib\\site-packages\\sklearn\\base.py:445: UserWarning: X does not have valid feature names, but DecisionTreeRegressor was fitted with feature names\n",
      "  warnings.warn(\n"
     ]
    },
    {
     "data": {
      "text/plain": [
       "array([104582.85436893])"
      ]
     },
     "execution_count": 65,
     "metadata": {},
     "output_type": "execute_result"
    }
   ],
   "source": [
    "ypredict = regressor.predict(p_array)\n",
    "ypredict"
   ]
  },
  {
   "cell_type": "code",
   "execution_count": 66,
   "id": "da2a8c49",
   "metadata": {},
   "outputs": [],
   "source": [
    "import pickle"
   ]
  },
  {
   "cell_type": "code",
   "execution_count": 67,
   "id": "275fff49",
   "metadata": {},
   "outputs": [],
   "source": [
    "final_data = {\"model\" : regressor,\"le_country\":le_c,\"le_education\":le}\n",
    "with open('saved_steps.pkl','wb') as file:\n",
    "    pickle.dump(final_data,file)"
   ]
  },
  {
   "cell_type": "code",
   "execution_count": 68,
   "id": "76f28ceb",
   "metadata": {},
   "outputs": [],
   "source": [
    "with open('saved_steps.pkl','rb') as file:\n",
    "    final_data = pickle.load(file)"
   ]
  },
  {
   "cell_type": "code",
   "execution_count": 69,
   "id": "61ecabb3",
   "metadata": {},
   "outputs": [],
   "source": [
    "regressor_load = final_data[\"model\"]\n",
    "le_country = final_data[\"le_country\"]\n",
    "le_education = final_data[\"le_education\"]"
   ]
  },
  {
   "cell_type": "code",
   "execution_count": 70,
   "id": "f1ebc554",
   "metadata": {},
   "outputs": [
    {
     "name": "stderr",
     "output_type": "stream",
     "text": [
      "c:\\users\\hp\\documents\\100\\ml_app\\lib\\site-packages\\sklearn\\base.py:445: UserWarning: X does not have valid feature names, but DecisionTreeRegressor was fitted with feature names\n",
      "  warnings.warn(\n"
     ]
    },
    {
     "data": {
      "text/plain": [
       "array([104582.85436893])"
      ]
     },
     "execution_count": 70,
     "metadata": {},
     "output_type": "execute_result"
    }
   ],
   "source": [
    "ypredict = regressor_load.predict(p_array)\n",
    "ypredict"
   ]
  }
 ],
 "metadata": {
  "kernelspec": {
   "display_name": "Python 3 (ipykernel)",
   "language": "python",
   "name": "python3"
  },
  "language_info": {
   "codemirror_mode": {
    "name": "ipython",
    "version": 3
   },
   "file_extension": ".py",
   "mimetype": "text/x-python",
   "name": "python",
   "nbconvert_exporter": "python",
   "pygments_lexer": "ipython3",
   "version": "3.8.7"
  }
 },
 "nbformat": 4,
 "nbformat_minor": 5
}
